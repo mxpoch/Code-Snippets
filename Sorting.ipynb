{
 "cells": [
  {
   "cell_type": "code",
   "execution_count": 44,
   "metadata": {},
   "outputs": [],
   "source": [
    "def hsort(numbers):\n",
    "# creating the sorted list\n",
    "    sortd = [0 for x in range(len(numbers))]\n",
    "\n",
    "    # creating the hashmap \n",
    "    hsort = {}\n",
    "\n",
    "    # creating the decimal length\n",
    "    maxdecimal = 0 # 0 for integer, anything else is Reals\n",
    "    start = 0\n",
    "    stop = 0\n",
    "\n",
    "    # populating the hashmap\n",
    "    for n in numbers:\n",
    "        # calculating the maxmimum number of decimal places for step\n",
    "        decimalpoint = abs(decimal.Decimal(str(n)).as_tuple().exponent)\n",
    "        if decimalpoint > maxdecimal: \n",
    "            maxdecimal = decimalpoint\n",
    "        if n < start: start = n\n",
    "        if n > stop: stop = n\n",
    "        \n",
    "        # populating the hashmap\n",
    "        if n not in hsort: hsort[n] = 1\n",
    "        else: hsort[n] += 1\n",
    "\n",
    "    #determining the step\n",
    "    step = 10**(-maxdecimal)\n",
    "\n",
    "    # creating iterator\n",
    "    x = start\n",
    "    i = 0\n",
    "    # scanning across the range\n",
    "    while x <= stop:\n",
    "        if x in hsort: \n",
    "            # inserting extra if it counts repeats\n",
    "            if hsort[x] > 1: \n",
    "                for repeats in range(hsort[x]): \n",
    "                    sortd[i] = x\n",
    "                    i += 1\n",
    "            else: \n",
    "                sortd[i] = x\n",
    "                i += 1\n",
    "\n",
    "        # keeping step correctly rounded \n",
    "        x += step\n",
    "        if maxdecimal > 0:\n",
    "            x = round(x,maxdecimal)\n",
    "    return sortd"
   ]
  },
  {
   "cell_type": "code",
   "execution_count": 45,
   "metadata": {},
   "outputs": [],
   "source": [
    "import decimal\n",
    "import random\n",
    "\n",
    "# list of numbers \n",
    "numbers = []\n",
    "c = 0\n",
    "while c < 1000:\n",
    "    numbers.append(random.randint(-4E5,5E6))\n",
    "    c+= 1"
   ]
  },
  {
   "cell_type": "code",
   "execution_count": 46,
   "metadata": {},
   "outputs": [
    {
     "name": "stdout",
     "output_type": "stream",
     "text": [
      "500 ms ± 34.6 ms per loop (mean ± std. dev. of 7 runs, 1 loop each)\n"
     ]
    }
   ],
   "source": [
    "%%timeit\n",
    "hsort(numbers)"
   ]
  },
  {
   "cell_type": "code",
   "execution_count": 43,
   "metadata": {},
   "outputs": [
    {
     "name": "stdout",
     "output_type": "stream",
     "text": [
      "84.4 µs ± 5.21 µs per loop (mean ± std. dev. of 7 runs, 10000 loops each)\n"
     ]
    }
   ],
   "source": [
    "%%timeit\n",
    "sorted(numbers)"
   ]
  }
 ],
 "metadata": {
  "interpreter": {
   "hash": "5350ad1cc9023786ec4d02309ed412f8cfbc5bc284127c5b79b7289fa466992b"
  },
  "kernelspec": {
   "display_name": "Python 3.9.4 64-bit",
   "language": "python",
   "name": "python3"
  },
  "language_info": {
   "codemirror_mode": {
    "name": "ipython",
    "version": 3
   },
   "file_extension": ".py",
   "mimetype": "text/x-python",
   "name": "python",
   "nbconvert_exporter": "python",
   "pygments_lexer": "ipython3",
   "version": "3.9.4"
  },
  "orig_nbformat": 4
 },
 "nbformat": 4,
 "nbformat_minor": 2
}
